{
  "nbformat": 4,
  "nbformat_minor": 0,
  "metadata": {
    "colab": {
      "name": "tkumar_Assignment1.ipynb",
      "provenance": []
    },
    "kernelspec": {
      "name": "python3",
      "display_name": "Python 3"
    }
  },
  "cells": [
    {
      "cell_type": "markdown",
      "metadata": {
        "id": "uurG3118Q0qk"
      },
      "source": [
        "Assignment 1: Classifying movie reviews: a binary classification\r\n",
        "\r\n",
        "**Tanmoy Kumar**"
      ]
    },
    {
      "cell_type": "markdown",
      "metadata": {
        "id": "mCIurecbVUS4"
      },
      "source": [
        "Increase hideen layers from 2 to 3. "
      ]
    },
    {
      "cell_type": "markdown",
      "metadata": {
        "id": "WOtW7RyKTZV_"
      },
      "source": [
        "Load the dataset from Karas"
      ]
    },
    {
      "cell_type": "code",
      "metadata": {
        "id": "H7TZY3j7wgwp",
        "colab": {
          "base_uri": "https://localhost:8080/"
        },
        "outputId": "3942591f-c925-408b-9885-6344876815e6"
      },
      "source": [
        "from keras.datasets import imdb\r\n",
        "\r\n",
        "(train_data, train_labels), (test_data, test_labels) = imdb.load_data(num_words=10000)"
      ],
      "execution_count": 11,
      "outputs": [
        {
          "output_type": "stream",
          "text": [
            "<string>:6: VisibleDeprecationWarning: Creating an ndarray from ragged nested sequences (which is a list-or-tuple of lists-or-tuples-or ndarrays with different lengths or shapes) is deprecated. If you meant to do this, you must specify 'dtype=object' when creating the ndarray\n",
            "/usr/local/lib/python3.7/dist-packages/tensorflow/python/keras/datasets/imdb.py:159: VisibleDeprecationWarning: Creating an ndarray from ragged nested sequences (which is a list-or-tuple of lists-or-tuples-or ndarrays with different lengths or shapes) is deprecated. If you meant to do this, you must specify 'dtype=object' when creating the ndarray\n",
            "  x_train, y_train = np.array(xs[:idx]), np.array(labels[:idx])\n",
            "/usr/local/lib/python3.7/dist-packages/tensorflow/python/keras/datasets/imdb.py:160: VisibleDeprecationWarning: Creating an ndarray from ragged nested sequences (which is a list-or-tuple of lists-or-tuples-or ndarrays with different lengths or shapes) is deprecated. If you meant to do this, you must specify 'dtype=object' when creating the ndarray\n",
            "  x_test, y_test = np.array(xs[idx:]), np.array(labels[idx:])\n"
          ],
          "name": "stderr"
        }
      ]
    },
    {
      "cell_type": "markdown",
      "metadata": {
        "id": "stnp-lTHUhOU"
      },
      "source": [
        "Max number of Most frequent word\r\n"
      ]
    },
    {
      "cell_type": "code",
      "metadata": {
        "colab": {
          "base_uri": "https://localhost:8080/"
        },
        "id": "u1H1vjZKUquB",
        "outputId": "12cfd1db-92e2-472e-bcbe-c515ba9c3f40"
      },
      "source": [
        "max([max(sequence) for sequence in train_data])"
      ],
      "execution_count": 12,
      "outputs": [
        {
          "output_type": "execute_result",
          "data": {
            "text/plain": [
              "9999"
            ]
          },
          "metadata": {
            "tags": []
          },
          "execution_count": 12
        }
      ]
    },
    {
      "cell_type": "code",
      "metadata": {
        "id": "DEmOMvKPVCYQ"
      },
      "source": [
        "\r\n",
        "import numpy as np\r\n",
        "\r\n",
        "def vectorize_sequences(sequences, dimension=10000):\r\n",
        "    # Create an all-zero matrix of shape (len(sequences), dimension)\r\n",
        "    results = np.zeros((len(sequences), dimension))\r\n",
        "    for i, sequence in enumerate(sequences):\r\n",
        "        results[i, sequence] = 1.  # set specific indices of results[i] to 1s\r\n",
        "    return results\r\n",
        "\r\n",
        "# Our vectorized training data\r\n",
        "x_train = vectorize_sequences(train_data)\r\n",
        "# Our vectorized test data\r\n",
        "x_test = vectorize_sequences(test_data)"
      ],
      "execution_count": 13,
      "outputs": []
    },
    {
      "cell_type": "markdown",
      "metadata": {
        "id": "vQ4YuzEUVOtC"
      },
      "source": [
        "After transformation how the data loooks "
      ]
    },
    {
      "cell_type": "code",
      "metadata": {
        "colab": {
          "base_uri": "https://localhost:8080/"
        },
        "id": "0xGbMfAHVTQl",
        "outputId": "95f2a6d0-37ea-4243-9f5e-cde4d5f39cd9"
      },
      "source": [
        "x_train[0]"
      ],
      "execution_count": 14,
      "outputs": [
        {
          "output_type": "execute_result",
          "data": {
            "text/plain": [
              "array([0., 1., 1., ..., 0., 0., 0.])"
            ]
          },
          "metadata": {
            "tags": []
          },
          "execution_count": 14
        }
      ]
    },
    {
      "cell_type": "markdown",
      "metadata": {
        "id": "QYKUNvFPVZbl"
      },
      "source": [
        "Vectorizing the labels"
      ]
    },
    {
      "cell_type": "code",
      "metadata": {
        "id": "EpR2aKaBVe3g"
      },
      "source": [
        "y_train = np.asarray(train_labels).astype('float32')\r\n",
        "y_test = np.asarray(test_labels).astype('float32')"
      ],
      "execution_count": 15,
      "outputs": []
    },
    {
      "cell_type": "markdown",
      "metadata": {
        "id": "HDmQhdobVmLb"
      },
      "source": [
        "Building networkwith three layers"
      ]
    },
    {
      "cell_type": "code",
      "metadata": {
        "id": "pGq7iWAeVnJF"
      },
      "source": [
        "\r\n",
        "from keras import models\r\n",
        "from keras import layers\r\n",
        "\r\n",
        "model = models.Sequential()\r\n",
        "model.add(layers.Dense(16, activation='relu', input_shape=(10000,)))\r\n",
        "model.add(layers.Dense(16, activation='relu'))\r\n",
        "model.add(layers.Dense(16, activation='relu'))\r\n",
        "model.add(layers.Dense(1, activation='sigmoid'))"
      ],
      "execution_count": 16,
      "outputs": []
    },
    {
      "cell_type": "markdown",
      "metadata": {
        "id": "bEcruj-IVvL9"
      },
      "source": [
        "Model Compilation "
      ]
    },
    {
      "cell_type": "code",
      "metadata": {
        "id": "uKnVmvSHVyx0"
      },
      "source": [
        "model.compile(optimizer='rmsprop',\r\n",
        "              loss='binary_crossentropy',\r\n",
        "              metrics=['accuracy'])"
      ],
      "execution_count": 17,
      "outputs": []
    },
    {
      "cell_type": "code",
      "metadata": {
        "id": "9mSk6lUXWRsF"
      },
      "source": [
        "from keras import optimizers\r\n",
        "\r\n",
        "model.compile(optimizer=optimizers.RMSprop(lr=0.001),\r\n",
        "              loss='binary_crossentropy',\r\n",
        "              metrics=['accuracy'])"
      ],
      "execution_count": 18,
      "outputs": []
    },
    {
      "cell_type": "code",
      "metadata": {
        "id": "5QLK4Nn0WW65"
      },
      "source": [
        "\r\n",
        "from keras import losses\r\n",
        "from keras import metrics\r\n",
        "\r\n",
        "model.compile(optimizer=optimizers.RMSprop(lr=0.001),\r\n",
        "              loss=losses.binary_crossentropy,\r\n",
        "              metrics=[metrics.binary_accuracy])"
      ],
      "execution_count": 19,
      "outputs": []
    },
    {
      "cell_type": "markdown",
      "metadata": {
        "id": "6iZ62Su7WjjJ"
      },
      "source": [
        "Validating our approach"
      ]
    },
    {
      "cell_type": "code",
      "metadata": {
        "id": "-sUHM4GsWkh_"
      },
      "source": [
        "\r\n",
        "x_val = x_train[:10000]\r\n",
        "partial_x_train = x_train[10000:]\r\n",
        "\r\n",
        "y_val = y_train[:10000]\r\n",
        "partial_y_train = y_train[10000:]"
      ],
      "execution_count": 20,
      "outputs": []
    },
    {
      "cell_type": "code",
      "metadata": {
        "colab": {
          "base_uri": "https://localhost:8080/"
        },
        "id": "veom42BPWolT",
        "outputId": "0db8a396-1c39-4f73-d1a9-cc8a7d88d80c"
      },
      "source": [
        "history = model.fit(partial_x_train,\r\n",
        "                    partial_y_train,\r\n",
        "                    epochs=20,\r\n",
        "                    batch_size=512,\r\n",
        "                    validation_data=(x_val, y_val))"
      ],
      "execution_count": 23,
      "outputs": [
        {
          "output_type": "stream",
          "text": [
            "Epoch 1/20\n",
            "30/30 [==============================] - 3s 59ms/step - loss: 0.6018 - binary_accuracy: 0.7009 - val_loss: 0.3857 - val_binary_accuracy: 0.8710\n",
            "Epoch 2/20\n",
            "30/30 [==============================] - 1s 46ms/step - loss: 0.3182 - binary_accuracy: 0.9002 - val_loss: 0.3014 - val_binary_accuracy: 0.8863\n",
            "Epoch 3/20\n",
            "30/30 [==============================] - 1s 45ms/step - loss: 0.2317 - binary_accuracy: 0.9239 - val_loss: 0.2761 - val_binary_accuracy: 0.8879\n",
            "Epoch 4/20\n",
            "30/30 [==============================] - 1s 45ms/step - loss: 0.1713 - binary_accuracy: 0.9457 - val_loss: 0.2750 - val_binary_accuracy: 0.8884\n",
            "Epoch 5/20\n",
            "30/30 [==============================] - 1s 46ms/step - loss: 0.1323 - binary_accuracy: 0.9594 - val_loss: 0.3076 - val_binary_accuracy: 0.8799\n",
            "Epoch 6/20\n",
            "30/30 [==============================] - 1s 46ms/step - loss: 0.1156 - binary_accuracy: 0.9628 - val_loss: 0.3021 - val_binary_accuracy: 0.8851\n",
            "Epoch 7/20\n",
            "30/30 [==============================] - 1s 46ms/step - loss: 0.0844 - binary_accuracy: 0.9751 - val_loss: 0.3290 - val_binary_accuracy: 0.8819\n",
            "Epoch 8/20\n",
            "30/30 [==============================] - 1s 45ms/step - loss: 0.0724 - binary_accuracy: 0.9812 - val_loss: 0.3473 - val_binary_accuracy: 0.8802\n",
            "Epoch 9/20\n",
            "30/30 [==============================] - 1s 45ms/step - loss: 0.0562 - binary_accuracy: 0.9843 - val_loss: 0.3775 - val_binary_accuracy: 0.8785\n",
            "Epoch 10/20\n",
            "30/30 [==============================] - 1s 46ms/step - loss: 0.0472 - binary_accuracy: 0.9884 - val_loss: 0.4368 - val_binary_accuracy: 0.8719\n",
            "Epoch 11/20\n",
            "30/30 [==============================] - 1s 46ms/step - loss: 0.0363 - binary_accuracy: 0.9920 - val_loss: 0.4554 - val_binary_accuracy: 0.8688\n",
            "Epoch 12/20\n",
            "30/30 [==============================] - 1s 46ms/step - loss: 0.0282 - binary_accuracy: 0.9936 - val_loss: 0.4667 - val_binary_accuracy: 0.8759\n",
            "Epoch 13/20\n",
            "30/30 [==============================] - 1s 47ms/step - loss: 0.0228 - binary_accuracy: 0.9957 - val_loss: 0.4985 - val_binary_accuracy: 0.8716\n",
            "Epoch 14/20\n",
            "30/30 [==============================] - 1s 46ms/step - loss: 0.0159 - binary_accuracy: 0.9977 - val_loss: 0.5361 - val_binary_accuracy: 0.8744\n",
            "Epoch 15/20\n",
            "30/30 [==============================] - 1s 46ms/step - loss: 0.0106 - binary_accuracy: 0.9987 - val_loss: 0.6806 - val_binary_accuracy: 0.8558\n",
            "Epoch 16/20\n",
            "30/30 [==============================] - 1s 46ms/step - loss: 0.0175 - binary_accuracy: 0.9954 - val_loss: 0.7534 - val_binary_accuracy: 0.8476\n",
            "Epoch 17/20\n",
            "30/30 [==============================] - 1s 46ms/step - loss: 0.0162 - binary_accuracy: 0.9961 - val_loss: 0.6523 - val_binary_accuracy: 0.8698\n",
            "Epoch 18/20\n",
            "30/30 [==============================] - 1s 46ms/step - loss: 0.0095 - binary_accuracy: 0.9975 - val_loss: 0.6900 - val_binary_accuracy: 0.8680\n",
            "Epoch 19/20\n",
            "30/30 [==============================] - 1s 46ms/step - loss: 0.0030 - binary_accuracy: 0.9997 - val_loss: 0.7265 - val_binary_accuracy: 0.8666\n",
            "Epoch 20/20\n",
            "30/30 [==============================] - 1s 45ms/step - loss: 0.0047 - binary_accuracy: 0.9988 - val_loss: 0.7694 - val_binary_accuracy: 0.8665\n"
          ],
          "name": "stdout"
        }
      ]
    },
    {
      "cell_type": "markdown",
      "metadata": {
        "id": "KIFrbzCfUKYV"
      },
      "source": [
        "We can see that with the increase of hidden layers from 2 to 3 let small decrease in test and validation loss but the accouracy remain almost same. Having more hidden units (a higher-dimensional representation space) allows your network to learn more complex representations, but it makes the network more computationally expensive and may lead to learning unwanted patterns (patterns that will improve performance on the training data but not on the test data)."
      ]
    },
    {
      "cell_type": "markdown",
      "metadata": {
        "id": "K83nPAuQSaw_"
      },
      "source": [
        ""
      ]
    },
    {
      "cell_type": "code",
      "metadata": {
        "colab": {
          "base_uri": "https://localhost:8080/"
        },
        "id": "BYDF5KnSW5cv",
        "outputId": "b25c6dce-578e-4847-e3cc-fc95ddcb16ca"
      },
      "source": [
        "\r\n",
        "history_dict = history.history\r\n",
        "history_dict.keys()"
      ],
      "execution_count": 24,
      "outputs": [
        {
          "output_type": "execute_result",
          "data": {
            "text/plain": [
              "dict_keys(['loss', 'binary_accuracy', 'val_loss', 'val_binary_accuracy'])"
            ]
          },
          "metadata": {
            "tags": []
          },
          "execution_count": 24
        }
      ]
    },
    {
      "cell_type": "code",
      "metadata": {
        "id": "WdpMzyTxEwQs"
      },
      "source": [
        ""
      ],
      "execution_count": null,
      "outputs": []
    },
    {
      "cell_type": "code",
      "metadata": {
        "colab": {
          "base_uri": "https://localhost:8080/",
          "height": 295
        },
        "id": "40h_MxeVW-ud",
        "outputId": "07fb2a7f-3ff2-4d41-d9c4-f52158548689"
      },
      "source": [
        "import matplotlib.pyplot as plt\r\n",
        "\r\n",
        "acc = history.history['binary_accuracy']\r\n",
        "val_acc = history.history['val_binary_accuracy']\r\n",
        "loss = history.history['loss']\r\n",
        "val_loss = history.history['val_loss']\r\n",
        "\r\n",
        "epochs = range(1, len(acc) + 1)\r\n",
        "\r\n",
        "# \"bo\" is for \"blue dot\"\r\n",
        "plt.plot(epochs, loss, 'bo', label='Training loss')\r\n",
        "# b is for \"solid blue line\"\r\n",
        "plt.plot(epochs, val_loss, 'b', label='Validation loss')\r\n",
        "plt.title('Training and validation loss')\r\n",
        "plt.xlabel('Epochs')\r\n",
        "plt.ylabel('Loss')\r\n",
        "plt.legend()\r\n",
        "\r\n",
        "plt.show()"
      ],
      "execution_count": 25,
      "outputs": [
        {
          "output_type": "display_data",
          "data": {
            "image/png": "[encoded data removed]",
            "text/plain": [
              "<Figure size 432x288 with 1 Axes>"
            ]
          },
          "metadata": {
            "tags": [],
            "needs_background": "light"
          }
        }
      ]
    },
    {
      "cell_type": "code",
      "metadata": {
        "colab": {
          "base_uri": "https://localhost:8080/",
          "height": 295
        },
        "id": "DcthTcY2XsCP",
        "outputId": "387d9d3c-7570-4e75-a3a6-8a50dd227da0"
      },
      "source": [
        "plt.clf()   # clear figure\r\n",
        "acc = history.history['binary_accuracy']\r\n",
        "val_acc = history.history['val_binary_accuracy']\r\n",
        "\r\n",
        "plt.plot(epochs, acc, 'bo', label='Training acc')\r\n",
        "plt.plot(epochs, val_acc, 'b', label='Validation acc')\r\n",
        "plt.title('Training and validation accuracy')\r\n",
        "plt.xlabel('Epochs')\r\n",
        "plt.ylabel('Loss')\r\n",
        "plt.legend()\r\n",
        "\r\n",
        "plt.show()"
      ],
      "execution_count": 26,
      "outputs": [
        {
          "output_type": "display_data",
          "data": {
            "image/png": "[encoded data removed]",
            "text/plain": [
              "<Figure size 432x288 with 1 Axes>"
            ]
          },
          "metadata": {
            "tags": [],
            "needs_background": "light"
          }
        }
      ]
    },
    {
      "cell_type": "markdown",
      "metadata": {
        "id": "UonTj701E6tL"
      },
      "source": [
        "From the Matplot graph we can see that training loss decreases with every epoch and the training accuracy increases with every epoch. But the validation loss and accuracy has the peak value at 3 epoch. So, we might take a call to stop after 3 epoch. "
      ]
    },
    {
      "cell_type": "markdown",
      "metadata": {
        "id": "w5w1c8GpX_Ol"
      },
      "source": [
        "Train a new Network layers with more hidden units units: 32"
      ]
    },
    {
      "cell_type": "code",
      "metadata": {
        "colab": {
          "base_uri": "https://localhost:8080/"
        },
        "id": "oWG4oUiMYDGl",
        "outputId": "6b0c20aa-e87d-43e7-f69c-41538ff72f66"
      },
      "source": [
        "\r\n",
        "model = models.Sequential()\r\n",
        "model.add(layers.Dense(32, activation='relu', input_shape=(10000,)))\r\n",
        "model.add(layers.Dense(1, activation='sigmoid'))\r\n",
        "\r\n",
        "model.compile(optimizer='rmsprop',\r\n",
        "              loss='binary_crossentropy',\r\n",
        "              metrics=['accuracy'])\r\n",
        "\r\n",
        "model.fit(x_train, y_train, epochs=20, batch_size=512)\r\n",
        "results = model.evaluate(x_test, y_test)"
      ],
      "execution_count": 33,
      "outputs": [
        {
          "output_type": "stream",
          "text": [
            "Epoch 1/20\n",
            "49/49 [==============================] - 3s 44ms/step - loss: 0.5237 - accuracy: 0.7502\n",
            "Epoch 2/20\n",
            "49/49 [==============================] - 2s 44ms/step - loss: 0.2665 - accuracy: 0.9117\n",
            "Epoch 3/20\n",
            "49/49 [==============================] - 2s 44ms/step - loss: 0.2020 - accuracy: 0.9322\n",
            "Epoch 4/20\n",
            "49/49 [==============================] - 2s 44ms/step - loss: 0.1700 - accuracy: 0.9407\n",
            "Epoch 5/20\n",
            "49/49 [==============================] - 3s 69ms/step - loss: 0.1451 - accuracy: 0.9537\n",
            "Epoch 6/20\n",
            "49/49 [==============================] - 4s 73ms/step - loss: 0.1277 - accuracy: 0.9586\n",
            "Epoch 7/20\n",
            "49/49 [==============================] - 2s 40ms/step - loss: 0.1145 - accuracy: 0.9637\n",
            "Epoch 8/20\n",
            "49/49 [==============================] - 2s 40ms/step - loss: 0.1075 - accuracy: 0.9660\n",
            "Epoch 9/20\n",
            "49/49 [==============================] - 2s 40ms/step - loss: 0.0962 - accuracy: 0.9700\n",
            "Epoch 10/20\n",
            "49/49 [==============================] - 2s 40ms/step - loss: 0.0872 - accuracy: 0.9718\n",
            "Epoch 11/20\n",
            "49/49 [==============================] - 2s 40ms/step - loss: 0.0811 - accuracy: 0.9755\n",
            "Epoch 12/20\n",
            "49/49 [==============================] - 2s 40ms/step - loss: 0.0756 - accuracy: 0.9775\n",
            "Epoch 13/20\n",
            "49/49 [==============================] - 2s 40ms/step - loss: 0.0674 - accuracy: 0.9797\n",
            "Epoch 14/20\n",
            "49/49 [==============================] - 2s 40ms/step - loss: 0.0583 - accuracy: 0.9837\n",
            "Epoch 15/20\n",
            "49/49 [==============================] - 2s 40ms/step - loss: 0.0568 - accuracy: 0.9849\n",
            "Epoch 16/20\n",
            "49/49 [==============================] - 2s 40ms/step - loss: 0.0497 - accuracy: 0.9879\n",
            "Epoch 17/20\n",
            "49/49 [==============================] - 2s 40ms/step - loss: 0.0455 - accuracy: 0.9884\n",
            "Epoch 18/20\n",
            "49/49 [==============================] - 2s 40ms/step - loss: 0.0420 - accuracy: 0.9902\n",
            "Epoch 19/20\n",
            "49/49 [==============================] - 2s 40ms/step - loss: 0.0390 - accuracy: 0.9913\n",
            "Epoch 20/20\n",
            "49/49 [==============================] - 2s 40ms/step - loss: 0.0337 - accuracy: 0.9919\n",
            "782/782 [==============================] - 2s 2ms/step - loss: 0.6267 - accuracy: 0.8507\n"
          ],
          "name": "stdout"
        }
      ]
    },
    {
      "cell_type": "code",
      "metadata": {
        "colab": {
          "base_uri": "https://localhost:8080/"
        },
        "id": "WBKHQezPYOEF",
        "outputId": "fd5a79d6-3219-4f07-f96d-30d6283e0c4c"
      },
      "source": [
        "results"
      ],
      "execution_count": 34,
      "outputs": [
        {
          "output_type": "execute_result",
          "data": {
            "text/plain": [
              "[0.626705527305603, 0.8507199883460999]"
            ]
          },
          "metadata": {
            "tags": []
          },
          "execution_count": 34
        }
      ]
    },
    {
      "cell_type": "markdown",
      "metadata": {
        "id": "Hhn7bZG9YY2l"
      },
      "source": [
        "generate predictions "
      ]
    },
    {
      "cell_type": "code",
      "metadata": {
        "colab": {
          "base_uri": "https://localhost:8080/"
        },
        "id": "X0vvA9cxYaGR",
        "outputId": "6306a33b-8983-4c39-9a59-076fe6c886a3"
      },
      "source": [
        "\r\n",
        "model.predict(x_test)"
      ],
      "execution_count": 35,
      "outputs": [
        {
          "output_type": "execute_result",
          "data": {
            "text/plain": [
              "array([[0.03724787],\n",
              "       [0.9999995 ],\n",
              "       [0.87947476],\n",
              "       ...,\n",
              "       [0.09587327],\n",
              "       [0.01113942],\n",
              "       [0.8800137 ]], dtype=float32)"
            ]
          },
          "metadata": {
            "tags": []
          },
          "execution_count": 35
        }
      ]
    },
    {
      "cell_type": "code",
      "metadata": {
        "colab": {
          "base_uri": "https://localhost:8080/"
        },
        "id": "ObDlhSi8N-Sz",
        "outputId": "a520b877-be6c-4fcb-bb0f-a8e519bebf26"
      },
      "source": [
        "\r\n",
        "history_dict = history.history\r\n",
        "history_dict.keys()"
      ],
      "execution_count": 36,
      "outputs": [
        {
          "output_type": "execute_result",
          "data": {
            "text/plain": [
              "dict_keys(['loss', 'binary_accuracy', 'val_loss', 'val_binary_accuracy'])"
            ]
          },
          "metadata": {
            "tags": []
          },
          "execution_count": 36
        }
      ]
    },
    {
      "cell_type": "code",
      "metadata": {
        "colab": {
          "base_uri": "https://localhost:8080/",
          "height": 295
        },
        "id": "Zza5CssfOD6b",
        "outputId": "e5ee9bcd-10e1-48cc-a383-219867940f3a"
      },
      "source": [
        "import matplotlib.pyplot as plt\r\n",
        "\r\n",
        "acc = history.history['binary_accuracy']\r\n",
        "val_acc = history.history['val_binary_accuracy']\r\n",
        "loss = history.history['loss']\r\n",
        "val_loss = history.history['val_loss']\r\n",
        "\r\n",
        "epochs = range(1, len(acc) + 1)\r\n",
        "\r\n",
        "# \"bo\" is for \"blue dot\"\r\n",
        "plt.plot(epochs, loss, 'bo', label='Training loss')\r\n",
        "# b is for \"solid blue line\"\r\n",
        "plt.plot(epochs, val_loss, 'b', label='Validation loss')\r\n",
        "plt.title('Training and validation loss')\r\n",
        "plt.xlabel('Epochs')\r\n",
        "plt.ylabel('Loss')\r\n",
        "plt.legend()\r\n",
        "\r\n",
        "plt.show()"
      ],
      "execution_count": 38,
      "outputs": [
        {
          "output_type": "display_data",
          "data": {
            "image/png": "[encoded data removed]",
            "text/plain": [
              "<Figure size 432x288 with 1 Axes>"
            ]
          },
          "metadata": {
            "tags": [],
            "needs_background": "light"
          }
        }
      ]
    },
    {
      "cell_type": "code",
      "metadata": {
        "colab": {
          "base_uri": "https://localhost:8080/",
          "height": 295
        },
        "id": "fZWfYD0MOJLL",
        "outputId": "348f82f4-42d8-4ea3-f206-6340d8d08c68"
      },
      "source": [
        "plt.clf()   # clear figure\r\n",
        "acc = history.history['binary_accuracy']\r\n",
        "val_acc = history.history['val_binary_accuracy']\r\n",
        "\r\n",
        "plt.plot(epochs, acc, 'bo', label='Training acc')\r\n",
        "plt.plot(epochs, val_acc, 'b', label='Validation acc')\r\n",
        "plt.title('Training and validation accuracy')\r\n",
        "plt.xlabel('Epochs')\r\n",
        "plt.ylabel('Loss')\r\n",
        "plt.legend()\r\n",
        "\r\n",
        "plt.show()"
      ],
      "execution_count": 39,
      "outputs": [
        {
          "output_type": "display_data",
          "data": {
            "image/png": "[encoded data removed]",
            "text/plain": [
              "<Figure size 432x288 with 1 Axes>"
            ]
          },
          "metadata": {
            "tags": [],
            "needs_background": "light"
          }
        }
      ]
    },
    {
      "cell_type": "markdown",
      "metadata": {
        "id": "7NuD2AiuOx26"
      },
      "source": [
        "Train a new Network using the mse loss function instead of binary_crossentropy and tanh activation"
      ]
    },
    {
      "cell_type": "code",
      "metadata": {
        "colab": {
          "base_uri": "https://localhost:8080/"
        },
        "id": "IyOADQdpOwhT",
        "outputId": "fe0ba1e7-1d76-42f9-daa0-9a95ebb66b2b"
      },
      "source": [
        "model = models.Sequential()\r\n",
        "model.add(layers.Dense(16, activation='tanh', input_shape=(10000,)))\r\n",
        "model.add(layers.Dense(1, activation='sigmoid'))\r\n",
        "\r\n",
        "model.compile(optimizer='rmsprop',\r\n",
        "              loss='mse',\r\n",
        "              metrics=['accuracy'])\r\n",
        "\r\n",
        "model.fit(x_train, y_train, epochs=20, batch_size=512)\r\n",
        "results = model.evaluate(x_test, y_test)"
      ],
      "execution_count": 40,
      "outputs": [
        {
          "output_type": "stream",
          "text": [
            "Epoch 1/20\n",
            "49/49 [==============================] - 2s 29ms/step - loss: 0.1743 - accuracy: 0.7620\n",
            "Epoch 2/20\n",
            "49/49 [==============================] - 1s 28ms/step - loss: 0.0830 - accuracy: 0.9127\n",
            "Epoch 3/20\n",
            "49/49 [==============================] - 1s 29ms/step - loss: 0.0609 - accuracy: 0.9364\n",
            "Epoch 4/20\n",
            "49/49 [==============================] - 1s 29ms/step - loss: 0.0510 - accuracy: 0.9442\n",
            "Epoch 5/20\n",
            "49/49 [==============================] - 1s 29ms/step - loss: 0.0411 - accuracy: 0.9563\n",
            "Epoch 6/20\n",
            "49/49 [==============================] - 1s 28ms/step - loss: 0.0368 - accuracy: 0.9605\n",
            "Epoch 7/20\n",
            "49/49 [==============================] - 1s 28ms/step - loss: 0.0312 - accuracy: 0.9685\n",
            "Epoch 8/20\n",
            "49/49 [==============================] - 1s 29ms/step - loss: 0.0274 - accuracy: 0.9727\n",
            "Epoch 9/20\n",
            "49/49 [==============================] - 1s 28ms/step - loss: 0.0246 - accuracy: 0.9761\n",
            "Epoch 10/20\n",
            "49/49 [==============================] - 1s 29ms/step - loss: 0.0210 - accuracy: 0.9802\n",
            "Epoch 11/20\n",
            "49/49 [==============================] - 1s 28ms/step - loss: 0.0189 - accuracy: 0.9818\n",
            "Epoch 12/20\n",
            "49/49 [==============================] - 1s 28ms/step - loss: 0.0171 - accuracy: 0.9846\n",
            "Epoch 13/20\n",
            "49/49 [==============================] - 1s 28ms/step - loss: 0.0169 - accuracy: 0.9838\n",
            "Epoch 14/20\n",
            "49/49 [==============================] - 1s 29ms/step - loss: 0.0146 - accuracy: 0.9870\n",
            "Epoch 15/20\n",
            "49/49 [==============================] - 1s 29ms/step - loss: 0.0139 - accuracy: 0.9871\n",
            "Epoch 16/20\n",
            "49/49 [==============================] - 1s 29ms/step - loss: 0.0129 - accuracy: 0.9880\n",
            "Epoch 17/20\n",
            "49/49 [==============================] - 1s 29ms/step - loss: 0.0103 - accuracy: 0.9912\n",
            "Epoch 18/20\n",
            "49/49 [==============================] - 1s 29ms/step - loss: 0.0109 - accuracy: 0.9897\n",
            "Epoch 19/20\n",
            "49/49 [==============================] - 1s 29ms/step - loss: 0.0098 - accuracy: 0.9912\n",
            "Epoch 20/20\n",
            "49/49 [==============================] - 1s 29ms/step - loss: 0.0088 - accuracy: 0.9920\n",
            "782/782 [==============================] - 2s 2ms/step - loss: 0.1225 - accuracy: 0.8554\n"
          ],
          "name": "stdout"
        }
      ]
    },
    {
      "cell_type": "code",
      "metadata": {
        "colab": {
          "base_uri": "https://localhost:8080/"
        },
        "id": "pY2H201fRdza",
        "outputId": "9c94a7ba-5094-42e0-b4b8-6ed0924a5d82"
      },
      "source": [
        "model.predict(x_test)"
      ],
      "execution_count": 41,
      "outputs": [
        {
          "output_type": "execute_result",
          "data": {
            "text/plain": [
              "array([[0.009498  ],\n",
              "       [1.        ],\n",
              "       [0.9600905 ],\n",
              "       ...,\n",
              "       [0.32420635],\n",
              "       [0.00730839],\n",
              "       [0.91513765]], dtype=float32)"
            ]
          },
          "metadata": {
            "tags": []
          },
          "execution_count": 41
        }
      ]
    },
    {
      "cell_type": "code",
      "metadata": {
        "colab": {
          "base_uri": "https://localhost:8080/"
        },
        "id": "uSPOtePjRj3m",
        "outputId": "aace51f6-ead0-464a-81c5-15f7c31bc33e"
      },
      "source": [
        "history_dict = history.history\r\n",
        "history_dict.keys()"
      ],
      "execution_count": 42,
      "outputs": [
        {
          "output_type": "execute_result",
          "data": {
            "text/plain": [
              "dict_keys(['loss', 'binary_accuracy', 'val_loss', 'val_binary_accuracy'])"
            ]
          },
          "metadata": {
            "tags": []
          },
          "execution_count": 42
        }
      ]
    },
    {
      "cell_type": "code",
      "metadata": {
        "colab": {
          "base_uri": "https://localhost:8080/",
          "height": 295
        },
        "id": "scJvjPyLRn29",
        "outputId": "20bb4483-faad-4d46-d4e2-b99a6b50cfde"
      },
      "source": [
        "import matplotlib.pyplot as plt\r\n",
        "\r\n",
        "acc = history.history['binary_accuracy']\r\n",
        "val_acc = history.history['val_binary_accuracy']\r\n",
        "loss = history.history['loss']\r\n",
        "val_loss = history.history['val_loss']\r\n",
        "\r\n",
        "epochs = range(1, len(acc) + 1)\r\n",
        "\r\n",
        "# \"bo\" is for \"blue dot\"\r\n",
        "plt.plot(epochs, loss, 'bo', label='Training loss')\r\n",
        "# b is for \"solid blue line\"\r\n",
        "plt.plot(epochs, val_loss, 'b', label='Validation loss')\r\n",
        "plt.title('Training and validation loss')\r\n",
        "plt.xlabel('Epochs')\r\n",
        "plt.ylabel('Loss')\r\n",
        "plt.legend()\r\n",
        "\r\n",
        "plt.show()"
      ],
      "execution_count": 43,
      "outputs": [
        {
          "output_type": "display_data",
          "data": {
            "image/png": "[encoded data removed]",
            "text/plain": [
              "<Figure size 432x288 with 1 Axes>"
            ]
          },
          "metadata": {
            "tags": [],
            "needs_background": "light"
          }
        }
      ]
    },
    {
      "cell_type": "code",
      "metadata": {
        "colab": {
          "base_uri": "https://localhost:8080/",
          "height": 295
        },
        "id": "ETKV6hT0Rw-7",
        "outputId": "d03a2a22-bd52-4f5e-fcdc-97defa3c28d6"
      },
      "source": [
        "plt.clf()   # clear figure\r\n",
        "acc = history.history['binary_accuracy']\r\n",
        "val_acc = history.history['val_binary_accuracy']\r\n",
        "\r\n",
        "plt.plot(epochs, acc, 'bo', label='Training acc')\r\n",
        "plt.plot(epochs, val_acc, 'b', label='Validation acc')\r\n",
        "plt.title('Training and validation accuracy')\r\n",
        "plt.xlabel('Epochs')\r\n",
        "plt.ylabel('Loss')\r\n",
        "plt.legend()\r\n",
        "\r\n",
        "plt.show()"
      ],
      "execution_count": 45,
      "outputs": [
        {
          "output_type": "display_data",
          "data": {
            "image/png": "[encoded data removed]",
            "text/plain": [
              "<Figure size 432x288 with 1 Axes>"
            ]
          },
          "metadata": {
            "tags": [],
            "needs_background": "light"
          }
        }
      ]
    }
  ]
}