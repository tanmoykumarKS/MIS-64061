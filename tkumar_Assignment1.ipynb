{
  "nbformat": 4,
  "nbformat_minor": 0,
  "metadata": {
    "colab": {
      "name": "tkumar_Assignment1.ipynb",
      "provenance": []
    },
    "kernelspec": {
      "name": "python3",
      "display_name": "Python 3"
    }
  },
  "cells": [
    {
      "cell_type": "markdown",
      "metadata": {
        "id": "uurG3118Q0qk"
      },
      "source": [
        "Assignment 1: Classifying movie reviews: a binary classification\r\n",
        "\r\n",
        "**Tanmoy Kumar**"
      ]
    },
    {
      "cell_type": "markdown",
      "metadata": {
        "id": "mCIurecbVUS4"
      },
      "source": [
        "Increase hideen layers from 2 to 3. "
      ]
    },
    {
      "cell_type": "markdown",
      "metadata": {
        "id": "WOtW7RyKTZV_"
      },
      "source": [
        "Load the dataset from Karas"
      ]
    },
    {
      "cell_type": "code",
      "metadata": {
        "id": "H7TZY3j7wgwp",
        "colab": {
          "base_uri": "https://localhost:8080/"
        },
        "outputId": "9ca73786-340f-45c3-b6ef-29d7ee68f26c"
      },
      "source": [
        "from keras.datasets import imdb\r\n",
        "\r\n",
        "(train_data, train_labels), (test_data, test_labels) = imdb.load_data(num_words=10000)"
      ],
      "execution_count": 1,
      "outputs": [
        {
          "output_type": "stream",
          "text": [
            "Downloading data from https://storage.googleapis.com/tensorflow/tf-keras-datasets/imdb.npz\n",
            "17465344/17464789 [==============================] - 0s 0us/step\n"
          ],
          "name": "stdout"
        },
        {
          "output_type": "stream",
          "text": [
            "<string>:6: VisibleDeprecationWarning: Creating an ndarray from ragged nested sequences (which is a list-or-tuple of lists-or-tuples-or ndarrays with different lengths or shapes) is deprecated. If you meant to do this, you must specify 'dtype=object' when creating the ndarray\n",
            "/usr/local/lib/python3.7/dist-packages/tensorflow/python/keras/datasets/imdb.py:159: VisibleDeprecationWarning: Creating an ndarray from ragged nested sequences (which is a list-or-tuple of lists-or-tuples-or ndarrays with different lengths or shapes) is deprecated. If you meant to do this, you must specify 'dtype=object' when creating the ndarray\n",
            "  x_train, y_train = np.array(xs[:idx]), np.array(labels[:idx])\n",
            "/usr/local/lib/python3.7/dist-packages/tensorflow/python/keras/datasets/imdb.py:160: VisibleDeprecationWarning: Creating an ndarray from ragged nested sequences (which is a list-or-tuple of lists-or-tuples-or ndarrays with different lengths or shapes) is deprecated. If you meant to do this, you must specify 'dtype=object' when creating the ndarray\n",
            "  x_test, y_test = np.array(xs[idx:]), np.array(labels[idx:])\n"
          ],
          "name": "stderr"
        }
      ]
    },
    {
      "cell_type": "markdown",
      "metadata": {
        "id": "stnp-lTHUhOU"
      },
      "source": [
        "Max number of Most frequent word\r\n"
      ]
    },
    {
      "cell_type": "code",
      "metadata": {
        "colab": {
          "base_uri": "https://localhost:8080/"
        },
        "id": "u1H1vjZKUquB",
        "outputId": "062f005a-af2f-4e01-ea97-c9738374b91f"
      },
      "source": [
        "max([max(sequence) for sequence in train_data])"
      ],
      "execution_count": 2,
      "outputs": [
        {
          "output_type": "execute_result",
          "data": {
            "text/plain": [
              "9999"
            ]
          },
          "metadata": {
            "tags": []
          },
          "execution_count": 2
        }
      ]
    },
    {
      "cell_type": "code",
      "metadata": {
        "id": "DEmOMvKPVCYQ"
      },
      "source": [
        "\r\n",
        "import numpy as np\r\n",
        "\r\n",
        "def vectorize_sequences(sequences, dimension=10000):\r\n",
        "    # Create an all-zero matrix of shape (len(sequences), dimension)\r\n",
        "    results = np.zeros((len(sequences), dimension))\r\n",
        "    for i, sequence in enumerate(sequences):\r\n",
        "        results[i, sequence] = 1.  # set specific indices of results[i] to 1s\r\n",
        "    return results\r\n",
        "\r\n",
        "# Our vectorized training data\r\n",
        "x_train = vectorize_sequences(train_data)\r\n",
        "# Our vectorized test data\r\n",
        "x_test = vectorize_sequences(test_data)"
      ],
      "execution_count": 3,
      "outputs": []
    },
    {
      "cell_type": "markdown",
      "metadata": {
        "id": "vQ4YuzEUVOtC"
      },
      "source": [
        "After transformation how the data loooks "
      ]
    },
    {
      "cell_type": "code",
      "metadata": {
        "colab": {
          "base_uri": "https://localhost:8080/"
        },
        "id": "0xGbMfAHVTQl",
        "outputId": "d9eea167-5eb1-4769-d7aa-b406341839ec"
      },
      "source": [
        "x_train[0]"
      ],
      "execution_count": 4,
      "outputs": [
        {
          "output_type": "execute_result",
          "data": {
            "text/plain": [
              "array([0., 1., 1., ..., 0., 0., 0.])"
            ]
          },
          "metadata": {
            "tags": []
          },
          "execution_count": 4
        }
      ]
    },
    {
      "cell_type": "markdown",
      "metadata": {
        "id": "QYKUNvFPVZbl"
      },
      "source": [
        "Vectorizing the labels"
      ]
    },
    {
      "cell_type": "code",
      "metadata": {
        "id": "EpR2aKaBVe3g"
      },
      "source": [
        "y_train = np.asarray(train_labels).astype('float32')\r\n",
        "y_test = np.asarray(test_labels).astype('float32')"
      ],
      "execution_count": 5,
      "outputs": []
    },
    {
      "cell_type": "markdown",
      "metadata": {
        "id": "HDmQhdobVmLb"
      },
      "source": [
        "Building networkwith three layers"
      ]
    },
    {
      "cell_type": "code",
      "metadata": {
        "id": "pGq7iWAeVnJF"
      },
      "source": [
        "\r\n",
        "from keras import models\r\n",
        "from keras import layers\r\n",
        "\r\n",
        "model = models.Sequential()\r\n",
        "model.add(layers.Dense(16, activation='relu', input_shape=(10000,)))\r\n",
        "model.add(layers.Dense(16, activation='relu'))\r\n",
        "model.add(layers.Dense(16, activation='relu'))\r\n",
        "model.add(layers.Dense(1, activation='sigmoid'))"
      ],
      "execution_count": 6,
      "outputs": []
    },
    {
      "cell_type": "markdown",
      "metadata": {
        "id": "bEcruj-IVvL9"
      },
      "source": [
        "Model Compilation "
      ]
    },
    {
      "cell_type": "code",
      "metadata": {
        "id": "uKnVmvSHVyx0"
      },
      "source": [
        "model.compile(optimizer='rmsprop',\r\n",
        "              loss='binary_crossentropy',\r\n",
        "              metrics=['accuracy'])"
      ],
      "execution_count": 7,
      "outputs": []
    },
    {
      "cell_type": "code",
      "metadata": {
        "id": "9mSk6lUXWRsF"
      },
      "source": [
        "from keras import optimizers\r\n",
        "\r\n",
        "model.compile(optimizer=optimizers.RMSprop(lr=0.001),\r\n",
        "              loss='binary_crossentropy',\r\n",
        "              metrics=['accuracy'])"
      ],
      "execution_count": 8,
      "outputs": []
    },
    {
      "cell_type": "code",
      "metadata": {
        "id": "5QLK4Nn0WW65"
      },
      "source": [
        "\r\n",
        "from keras import losses\r\n",
        "from keras import metrics\r\n",
        "\r\n",
        "model.compile(optimizer=optimizers.RMSprop(lr=0.001),\r\n",
        "              loss=losses.binary_crossentropy,\r\n",
        "              metrics=[metrics.binary_accuracy])"
      ],
      "execution_count": 9,
      "outputs": []
    },
    {
      "cell_type": "markdown",
      "metadata": {
        "id": "6iZ62Su7WjjJ"
      },
      "source": [
        "Validating our approach"
      ]
    },
    {
      "cell_type": "code",
      "metadata": {
        "id": "-sUHM4GsWkh_"
      },
      "source": [
        "\r\n",
        "x_val = x_train[:10000]\r\n",
        "partial_x_train = x_train[10000:]\r\n",
        "\r\n",
        "y_val = y_train[:10000]\r\n",
        "partial_y_train = y_train[10000:]"
      ],
      "execution_count": 10,
      "outputs": []
    },
    {
      "cell_type": "code",
      "metadata": {
        "colab": {
          "base_uri": "https://localhost:8080/"
        },
        "id": "veom42BPWolT",
        "outputId": "9135adbe-b8c8-4c46-b3b4-7ea4859ba768"
      },
      "source": [
        "history = model.fit(partial_x_train,\r\n",
        "                    partial_y_train,\r\n",
        "                    epochs=20,\r\n",
        "                    batch_size=512,\r\n",
        "                    validation_data=(x_val, y_val))"
      ],
      "execution_count": 11,
      "outputs": [
        {
          "output_type": "stream",
          "text": [
            "Epoch 1/20\n",
            "30/30 [==============================] - 3s 63ms/step - loss: 0.5941 - binary_accuracy: 0.6968 - val_loss: 0.4313 - val_binary_accuracy: 0.8118\n",
            "Epoch 2/20\n",
            "30/30 [==============================] - 1s 37ms/step - loss: 0.3097 - binary_accuracy: 0.8980 - val_loss: 0.2992 - val_binary_accuracy: 0.8837\n",
            "Epoch 3/20\n",
            "30/30 [==============================] - 1s 44ms/step - loss: 0.2029 - binary_accuracy: 0.9362 - val_loss: 0.2984 - val_binary_accuracy: 0.8834\n",
            "Epoch 4/20\n",
            "30/30 [==============================] - 1s 38ms/step - loss: 0.1574 - binary_accuracy: 0.9502 - val_loss: 0.3184 - val_binary_accuracy: 0.8751\n",
            "Epoch 5/20\n",
            "30/30 [==============================] - 1s 46ms/step - loss: 0.1217 - binary_accuracy: 0.9622 - val_loss: 0.3261 - val_binary_accuracy: 0.8758\n",
            "Epoch 6/20\n",
            "30/30 [==============================] - 1s 40ms/step - loss: 0.0951 - binary_accuracy: 0.9727 - val_loss: 0.3357 - val_binary_accuracy: 0.8779\n",
            "Epoch 7/20\n",
            "30/30 [==============================] - 1s 36ms/step - loss: 0.0838 - binary_accuracy: 0.9747 - val_loss: 0.4001 - val_binary_accuracy: 0.8629\n",
            "Epoch 8/20\n",
            "30/30 [==============================] - 1s 36ms/step - loss: 0.0655 - binary_accuracy: 0.9817 - val_loss: 0.4525 - val_binary_accuracy: 0.8630\n",
            "Epoch 9/20\n",
            "30/30 [==============================] - 1s 36ms/step - loss: 0.0481 - binary_accuracy: 0.9884 - val_loss: 0.4012 - val_binary_accuracy: 0.8779\n",
            "Epoch 10/20\n",
            "30/30 [==============================] - 1s 35ms/step - loss: 0.0486 - binary_accuracy: 0.9843 - val_loss: 0.4521 - val_binary_accuracy: 0.8732\n",
            "Epoch 11/20\n",
            "30/30 [==============================] - 1s 45ms/step - loss: 0.0268 - binary_accuracy: 0.9948 - val_loss: 0.4768 - val_binary_accuracy: 0.8686\n",
            "Epoch 12/20\n",
            "30/30 [==============================] - 1s 45ms/step - loss: 0.0222 - binary_accuracy: 0.9955 - val_loss: 0.4957 - val_binary_accuracy: 0.8722\n",
            "Epoch 13/20\n",
            "30/30 [==============================] - 1s 40ms/step - loss: 0.0136 - binary_accuracy: 0.9981 - val_loss: 0.5309 - val_binary_accuracy: 0.8720\n",
            "Epoch 14/20\n",
            "30/30 [==============================] - 1s 43ms/step - loss: 0.0079 - binary_accuracy: 0.9996 - val_loss: 0.6553 - val_binary_accuracy: 0.8538\n",
            "Epoch 15/20\n",
            "30/30 [==============================] - 1s 37ms/step - loss: 0.0124 - binary_accuracy: 0.9978 - val_loss: 0.6083 - val_binary_accuracy: 0.8670\n",
            "Epoch 16/20\n",
            "30/30 [==============================] - 1s 45ms/step - loss: 0.0042 - binary_accuracy: 0.9999 - val_loss: 0.6417 - val_binary_accuracy: 0.8650\n",
            "Epoch 17/20\n",
            "30/30 [==============================] - 1s 48ms/step - loss: 0.0067 - binary_accuracy: 0.9987 - val_loss: 0.6732 - val_binary_accuracy: 0.8671\n",
            "Epoch 18/20\n",
            "30/30 [==============================] - 1s 46ms/step - loss: 0.0026 - binary_accuracy: 0.9997 - val_loss: 0.7005 - val_binary_accuracy: 0.8678\n",
            "Epoch 19/20\n",
            "30/30 [==============================] - 1s 37ms/step - loss: 0.0019 - binary_accuracy: 0.9999 - val_loss: 0.7677 - val_binary_accuracy: 0.8641\n",
            "Epoch 20/20\n",
            "30/30 [==============================] - 1s 42ms/step - loss: 0.0101 - binary_accuracy: 0.9971 - val_loss: 0.7976 - val_binary_accuracy: 0.8641\n"
          ],
          "name": "stdout"
        }
      ]
    },
    {
      "cell_type": "markdown",
      "metadata": {
        "id": "KIFrbzCfUKYV"
      },
      "source": [
        "We can see that with the increase of hidden layers from 2 to 3 let small decrease in test and validation loss but the accouracy remain almost same. Having more hidden units (a higher-dimensional representation space) allows your network to learn more complex representations, but it makes the network more computationally expensive and may lead to learning unwanted patterns (patterns that will improve performance on the training data but not on the test data)."
      ]
    },
    {
      "cell_type": "markdown",
      "metadata": {
        "id": "K83nPAuQSaw_"
      },
      "source": [
        ""
      ]
    },
    {
      "cell_type": "code",
      "metadata": {
        "colab": {
          "base_uri": "https://localhost:8080/"
        },
        "id": "BYDF5KnSW5cv",
        "outputId": "10da22bb-5668-4dce-fd9d-20f27483d8c3"
      },
      "source": [
        "\r\n",
        "history_dict = history.history\r\n",
        "history_dict.keys()"
      ],
      "execution_count": 12,
      "outputs": [
        {
          "output_type": "execute_result",
          "data": {
            "text/plain": [
              "dict_keys(['loss', 'binary_accuracy', 'val_loss', 'val_binary_accuracy'])"
            ]
          },
          "metadata": {
            "tags": []
          },
          "execution_count": 12
        }
      ]
    },
    {
      "cell_type": "code",
      "metadata": {
        "id": "WdpMzyTxEwQs"
      },
      "source": [
        ""
      ],
      "execution_count": 12,
      "outputs": []
    },
    {
      "cell_type": "code",
      "metadata": {
        "colab": {
          "base_uri": "https://localhost:8080/",
          "height": 295
        },
        "id": "40h_MxeVW-ud",
        "outputId": "162865b9-d882-420d-d7da-9b99ed5ec532"
      },
      "source": [
        "import matplotlib.pyplot as plt\r\n",
        "\r\n",
        "acc = history.history['binary_accuracy']\r\n",
        "val_acc = history.history['val_binary_accuracy']\r\n",
        "loss = history.history['loss']\r\n",
        "val_loss = history.history['val_loss']\r\n",
        "\r\n",
        "epochs = range(1, len(acc) + 1)\r\n",
        "\r\n",
        "# \"bo\" is for \"blue dot\"\r\n",
        "plt.plot(epochs, loss, 'bo', label='Training loss')\r\n",
        "# b is for \"solid blue line\"\r\n",
        "plt.plot(epochs, val_loss, 'b', label='Validation loss')\r\n",
        "plt.title('Training and validation loss')\r\n",
        "plt.xlabel('Epochs')\r\n",
        "plt.ylabel('Loss')\r\n",
        "plt.legend()\r\n",
        "\r\n",
        "plt.show()"
      ],
      "execution_count": 13,
      "outputs": [
        {
          "output_type": "display_data",
          "data": {
            "image/png": "[encoded data removed]",
            "text/plain": [
              "<Figure size 432x288 with 1 Axes>"
            ]
          },
          "metadata": {
            "tags": [],
            "needs_background": "light"
          }
        }
      ]
    },
    {
      "cell_type": "code",
      "metadata": {
        "colab": {
          "base_uri": "https://localhost:8080/",
          "height": 295
        },
        "id": "DcthTcY2XsCP",
        "outputId": "e9686203-faef-4f2d-ce88-7fbb6337efa9"
      },
      "source": [
        "plt.clf()   # clear figure\r\n",
        "acc = history.history['binary_accuracy']\r\n",
        "val_acc = history.history['val_binary_accuracy']\r\n",
        "\r\n",
        "plt.plot(epochs, acc, 'bo', label='Training acc')\r\n",
        "plt.plot(epochs, val_acc, 'b', label='Validation acc')\r\n",
        "plt.title('Training and validation accuracy')\r\n",
        "plt.xlabel('Epochs')\r\n",
        "plt.ylabel('Loss')\r\n",
        "plt.legend()\r\n",
        "\r\n",
        "plt.show()"
      ],
      "execution_count": 14,
      "outputs": [
        {
          "output_type": "display_data",
          "data": {
            "image/png": "[encoded data removed]",
            "text/plain": [
              "<Figure size 432x288 with 1 Axes>"
            ]
          },
          "metadata": {
            "tags": [],
            "needs_background": "light"
          }
        }
      ]
    },
    {
      "cell_type": "markdown",
      "metadata": {
        "id": "UonTj701E6tL"
      },
      "source": [
        "From the Matplot graph we can see that training loss decreases with every epoch and the training accuracy increases with every epoch. But the validation loss and accuracy has the peak value at 3 epoch. So, we might take a call to stop after 3 epoch. "
      ]
    },
    {
      "cell_type": "markdown",
      "metadata": {
        "id": "w5w1c8GpX_Ol"
      },
      "source": [
        "Train a new Network layers with more hidden units units: 32"
      ]
    },
    {
      "cell_type": "code",
      "metadata": {
        "colab": {
          "base_uri": "https://localhost:8080/"
        },
        "id": "oWG4oUiMYDGl",
        "outputId": "b4d5bc5a-68f3-45b2-93bb-88b636a40445"
      },
      "source": [
        "\r\n",
        "model = models.Sequential()\r\n",
        "model.add(layers.Dense(32, activation='relu', input_shape=(10000,)))\r\n",
        "model.add(layers.Dense(1, activation='sigmoid'))\r\n",
        "\r\n",
        "model.compile(optimizer='rmsprop',\r\n",
        "              loss='binary_crossentropy',\r\n",
        "              metrics=['accuracy'])\r\n",
        "\r\n",
        "model.fit(x_train, y_train, epochs=20, batch_size=512)\r\n",
        "results = model.evaluate(x_test, y_test)"
      ],
      "execution_count": 15,
      "outputs": [
        {
          "output_type": "stream",
          "text": [
            "Epoch 1/20\n",
            "49/49 [==============================] - 2s 32ms/step - loss: 0.5163 - accuracy: 0.7562\n",
            "Epoch 2/20\n",
            "49/49 [==============================] - 2s 32ms/step - loss: 0.2611 - accuracy: 0.9152\n",
            "Epoch 3/20\n",
            "49/49 [==============================] - 2s 32ms/step - loss: 0.1985 - accuracy: 0.9336\n",
            "Epoch 4/20\n",
            "49/49 [==============================] - 2s 32ms/step - loss: 0.1680 - accuracy: 0.9438\n",
            "Epoch 5/20\n",
            "49/49 [==============================] - 2s 32ms/step - loss: 0.1434 - accuracy: 0.9525\n",
            "Epoch 6/20\n",
            "49/49 [==============================] - 2s 32ms/step - loss: 0.1337 - accuracy: 0.9563\n",
            "Epoch 7/20\n",
            "49/49 [==============================] - 2s 32ms/step - loss: 0.1148 - accuracy: 0.9642\n",
            "Epoch 8/20\n",
            "49/49 [==============================] - 2s 34ms/step - loss: 0.1015 - accuracy: 0.9676\n",
            "Epoch 9/20\n",
            "49/49 [==============================] - 2s 40ms/step - loss: 0.0926 - accuracy: 0.9713\n",
            "Epoch 10/20\n",
            "49/49 [==============================] - 2s 41ms/step - loss: 0.0859 - accuracy: 0.9740\n",
            "Epoch 11/20\n",
            "49/49 [==============================] - 2s 36ms/step - loss: 0.0770 - accuracy: 0.9767\n",
            "Epoch 12/20\n",
            "49/49 [==============================] - 2s 39ms/step - loss: 0.0711 - accuracy: 0.9777\n",
            "Epoch 13/20\n",
            "49/49 [==============================] - 2s 40ms/step - loss: 0.0625 - accuracy: 0.9813\n",
            "Epoch 14/20\n",
            "49/49 [==============================] - 2s 34ms/step - loss: 0.0554 - accuracy: 0.9854\n",
            "Epoch 15/20\n",
            "49/49 [==============================] - 2s 37ms/step - loss: 0.0533 - accuracy: 0.9849\n",
            "Epoch 16/20\n",
            "49/49 [==============================] - 2s 32ms/step - loss: 0.0458 - accuracy: 0.9883\n",
            "Epoch 17/20\n",
            "49/49 [==============================] - 2s 32ms/step - loss: 0.0439 - accuracy: 0.9901\n",
            "Epoch 18/20\n",
            "49/49 [==============================] - 2s 32ms/step - loss: 0.0388 - accuracy: 0.9906\n",
            "Epoch 19/20\n",
            "49/49 [==============================] - 2s 37ms/step - loss: 0.0345 - accuracy: 0.9923\n",
            "Epoch 20/20\n",
            "49/49 [==============================] - 2s 33ms/step - loss: 0.0322 - accuracy: 0.9929\n",
            "782/782 [==============================] - 2s 2ms/step - loss: 0.6495 - accuracy: 0.8476\n"
          ],
          "name": "stdout"
        }
      ]
    },
    {
      "cell_type": "code",
      "metadata": {
        "colab": {
          "base_uri": "https://localhost:8080/"
        },
        "id": "WBKHQezPYOEF",
        "outputId": "98979713-f70a-4b7e-9b2f-0cd39c27abd3"
      },
      "source": [
        "results"
      ],
      "execution_count": 16,
      "outputs": [
        {
          "output_type": "execute_result",
          "data": {
            "text/plain": [
              "[0.6495226621627808, 0.8476399779319763]"
            ]
          },
          "metadata": {
            "tags": []
          },
          "execution_count": 16
        }
      ]
    },
    {
      "cell_type": "markdown",
      "metadata": {
        "id": "Hhn7bZG9YY2l"
      },
      "source": [
        "generate predictions "
      ]
    },
    {
      "cell_type": "code",
      "metadata": {
        "colab": {
          "base_uri": "https://localhost:8080/"
        },
        "id": "X0vvA9cxYaGR",
        "outputId": "2513c4a8-c879-4dfb-cd6b-2ca610562e3c"
      },
      "source": [
        "\r\n",
        "model.predict(x_test)"
      ],
      "execution_count": 17,
      "outputs": [
        {
          "output_type": "execute_result",
          "data": {
            "text/plain": [
              "array([[0.02411336],\n",
              "       [1.        ],\n",
              "       [0.95755947],\n",
              "       ...,\n",
              "       [0.09590644],\n",
              "       [0.01286522],\n",
              "       [0.9750172 ]], dtype=float32)"
            ]
          },
          "metadata": {
            "tags": []
          },
          "execution_count": 17
        }
      ]
    },
    {
      "cell_type": "code",
      "metadata": {
        "colab": {
          "base_uri": "https://localhost:8080/"
        },
        "id": "ObDlhSi8N-Sz",
        "outputId": "9688b681-3758-43ad-9485-0aa0b78c6de5"
      },
      "source": [
        "\r\n",
        "history_dict = history.history\r\n",
        "history_dict.keys()"
      ],
      "execution_count": 18,
      "outputs": [
        {
          "output_type": "execute_result",
          "data": {
            "text/plain": [
              "dict_keys(['loss', 'binary_accuracy', 'val_loss', 'val_binary_accuracy'])"
            ]
          },
          "metadata": {
            "tags": []
          },
          "execution_count": 18
        }
      ]
    },
    {
      "cell_type": "code",
      "metadata": {
        "colab": {
          "base_uri": "https://localhost:8080/",
          "height": 295
        },
        "id": "Zza5CssfOD6b",
        "outputId": "96f50fae-1690-42c4-951b-f6c4e685316b"
      },
      "source": [
        "import matplotlib.pyplot as plt\r\n",
        "\r\n",
        "acc = history.history['binary_accuracy']\r\n",
        "val_acc = history.history['val_binary_accuracy']\r\n",
        "loss = history.history['loss']\r\n",
        "val_loss = history.history['val_loss']\r\n",
        "\r\n",
        "epochs = range(1, len(acc) + 1)\r\n",
        "\r\n",
        "# \"bo\" is for \"blue dot\"\r\n",
        "plt.plot(epochs, loss, 'bo', label='Training loss')\r\n",
        "# b is for \"solid blue line\"\r\n",
        "plt.plot(epochs, val_loss, 'b', label='Validation loss')\r\n",
        "plt.title('Training and validation loss')\r\n",
        "plt.xlabel('Epochs')\r\n",
        "plt.ylabel('Loss')\r\n",
        "plt.legend()\r\n",
        "\r\n",
        "plt.show()"
      ],
      "execution_count": 19,
      "outputs": [
        {
          "output_type": "display_data",
          "data": {
            "image/png": "[encoded data removed]",
            "text/plain": [
              "<Figure size 432x288 with 1 Axes>"
            ]
          },
          "metadata": {
            "tags": [],
            "needs_background": "light"
          }
        }
      ]
    },
    {
      "cell_type": "code",
      "metadata": {
        "colab": {
          "base_uri": "https://localhost:8080/",
          "height": 295
        },
        "id": "fZWfYD0MOJLL",
        "outputId": "64d321b4-714e-4207-dc6b-9ebaf73bd99c"
      },
      "source": [
        "plt.clf()   # clear figure\r\n",
        "acc = history.history['binary_accuracy']\r\n",
        "val_acc = history.history['val_binary_accuracy']\r\n",
        "\r\n",
        "plt.plot(epochs, acc, 'bo', label='Training acc')\r\n",
        "plt.plot(epochs, val_acc, 'b', label='Validation acc')\r\n",
        "plt.title('Training and validation accuracy')\r\n",
        "plt.xlabel('Epochs')\r\n",
        "plt.ylabel('Loss')\r\n",
        "plt.legend()\r\n",
        "\r\n",
        "plt.show()"
      ],
      "execution_count": 20,
      "outputs": [
        {
          "output_type": "display_data",
          "data": {
            "image/png": "[encoded data removed]",
            "text/plain": [
              "<Figure size 432x288 with 1 Axes>"
            ]
          },
          "metadata": {
            "tags": [],
            "needs_background": "light"
          }
        }
      ]
    },
    {
      "cell_type": "markdown",
      "metadata": {
        "id": "7NuD2AiuOx26"
      },
      "source": [
        "Train a new Network using the mse loss function instead of binary_crossentropy and tanh activation"
      ]
    },
    {
      "cell_type": "code",
      "metadata": {
        "colab": {
          "base_uri": "https://localhost:8080/"
        },
        "id": "IyOADQdpOwhT",
        "outputId": "f5004d0f-a1bd-4c07-ef81-bd083b03d916"
      },
      "source": [
        "model = models.Sequential()\r\n",
        "model.add(layers.Dense(16, activation='tanh', input_shape=(10000,)))\r\n",
        "model.add(layers.Dense(1, activation='sigmoid'))\r\n",
        "\r\n",
        "model.compile(optimizer='rmsprop',\r\n",
        "              loss='mse',\r\n",
        "              metrics=['accuracy'])\r\n",
        "\r\n",
        "model.fit(x_train, y_train, epochs=20, batch_size=512)\r\n",
        "results = model.evaluate(x_test, y_test)"
      ],
      "execution_count": 21,
      "outputs": [
        {
          "output_type": "stream",
          "text": [
            "Epoch 1/20\n",
            "49/49 [==============================] - 2s 33ms/step - loss: 0.1805 - accuracy: 0.7616\n",
            "Epoch 2/20\n",
            "49/49 [==============================] - 2s 31ms/step - loss: 0.0861 - accuracy: 0.9119\n",
            "Epoch 3/20\n",
            "49/49 [==============================] - 2s 33ms/step - loss: 0.0645 - accuracy: 0.9288\n",
            "Epoch 4/20\n",
            "49/49 [==============================] - 1s 28ms/step - loss: 0.0510 - accuracy: 0.9436\n",
            "Epoch 5/20\n",
            "49/49 [==============================] - 1s 27ms/step - loss: 0.0432 - accuracy: 0.9514\n",
            "Epoch 6/20\n",
            "49/49 [==============================] - 2s 35ms/step - loss: 0.0370 - accuracy: 0.9608\n",
            "Epoch 7/20\n",
            "49/49 [==============================] - 2s 35ms/step - loss: 0.0312 - accuracy: 0.9682\n",
            "Epoch 8/20\n",
            "49/49 [==============================] - 2s 31ms/step - loss: 0.0285 - accuracy: 0.9714\n",
            "Epoch 9/20\n",
            "49/49 [==============================] - 1s 27ms/step - loss: 0.0252 - accuracy: 0.9745\n",
            "Epoch 10/20\n",
            "49/49 [==============================] - 1s 27ms/step - loss: 0.0228 - accuracy: 0.9778\n",
            "Epoch 11/20\n",
            "49/49 [==============================] - 1s 28ms/step - loss: 0.0204 - accuracy: 0.9802\n",
            "Epoch 12/20\n",
            "49/49 [==============================] - 2s 32ms/step - loss: 0.0197 - accuracy: 0.9814\n",
            "Epoch 13/20\n",
            "49/49 [==============================] - 1s 28ms/step - loss: 0.0162 - accuracy: 0.9849\n",
            "Epoch 14/20\n",
            "49/49 [==============================] - 1s 27ms/step - loss: 0.0147 - accuracy: 0.9871\n",
            "Epoch 15/20\n",
            "49/49 [==============================] - 1s 29ms/step - loss: 0.0139 - accuracy: 0.9878\n",
            "Epoch 16/20\n",
            "49/49 [==============================] - 2s 31ms/step - loss: 0.0121 - accuracy: 0.9894\n",
            "Epoch 17/20\n",
            "49/49 [==============================] - 1s 28ms/step - loss: 0.0104 - accuracy: 0.9909\n",
            "Epoch 18/20\n",
            "49/49 [==============================] - 1s 27ms/step - loss: 0.0109 - accuracy: 0.9898\n",
            "Epoch 19/20\n",
            "49/49 [==============================] - 1s 27ms/step - loss: 0.0093 - accuracy: 0.9914\n",
            "Epoch 20/20\n",
            "49/49 [==============================] - 2s 32ms/step - loss: 0.0099 - accuracy: 0.9908\n",
            "782/782 [==============================] - 2s 2ms/step - loss: 0.1229 - accuracy: 0.8546\n"
          ],
          "name": "stdout"
        }
      ]
    },
    {
      "cell_type": "code",
      "metadata": {
        "colab": {
          "base_uri": "https://localhost:8080/"
        },
        "id": "pY2H201fRdza",
        "outputId": "e7dcbe81-7ac4-4470-9007-f89732b6dc6f"
      },
      "source": [
        "model.predict(x_test)"
      ],
      "execution_count": 22,
      "outputs": [
        {
          "output_type": "execute_result",
          "data": {
            "text/plain": [
              "array([[0.00763613],\n",
              "       [1.        ],\n",
              "       [0.88856626],\n",
              "       ...,\n",
              "       [0.16179061],\n",
              "       [0.00218901],\n",
              "       [0.9006124 ]], dtype=float32)"
            ]
          },
          "metadata": {
            "tags": []
          },
          "execution_count": 22
        }
      ]
    },
    {
      "cell_type": "code",
      "metadata": {
        "colab": {
          "base_uri": "https://localhost:8080/"
        },
        "id": "uSPOtePjRj3m",
        "outputId": "7d1d17cd-37a1-4010-ba46-53e70220fb0d"
      },
      "source": [
        "history_dict = history.history\r\n",
        "history_dict.keys()"
      ],
      "execution_count": 23,
      "outputs": [
        {
          "output_type": "execute_result",
          "data": {
            "text/plain": [
              "dict_keys(['loss', 'binary_accuracy', 'val_loss', 'val_binary_accuracy'])"
            ]
          },
          "metadata": {
            "tags": []
          },
          "execution_count": 23
        }
      ]
    },
    {
      "cell_type": "code",
      "metadata": {
        "colab": {
          "base_uri": "https://localhost:8080/",
          "height": 295
        },
        "id": "scJvjPyLRn29",
        "outputId": "139bc491-66d3-4fa6-aa53-33ea448a1579"
      },
      "source": [
        "import matplotlib.pyplot as plt\r\n",
        "\r\n",
        "acc = history.history['binary_accuracy']\r\n",
        "val_acc = history.history['val_binary_accuracy']\r\n",
        "loss = history.history['loss']\r\n",
        "val_loss = history.history['val_loss']\r\n",
        "\r\n",
        "epochs = range(1, len(acc) + 1)\r\n",
        "\r\n",
        "# \"bo\" is for \"blue dot\"\r\n",
        "plt.plot(epochs, loss, 'bo', label='Training loss')\r\n",
        "# b is for \"solid blue line\"\r\n",
        "plt.plot(epochs, val_loss, 'b', label='Validation loss')\r\n",
        "plt.title('Training and validation loss')\r\n",
        "plt.xlabel('Epochs')\r\n",
        "plt.ylabel('Loss')\r\n",
        "plt.legend()\r\n",
        "\r\n",
        "plt.show()"
      ],
      "execution_count": 24,
      "outputs": [
        {
          "output_type": "display_data",
          "data": {
            "image/png": "[encoded data removed]",
            "text/plain": [
              "<Figure size 432x288 with 1 Axes>"
            ]
          },
          "metadata": {
            "tags": [],
            "needs_background": "light"
          }
        }
      ]
    },
    {
      "cell_type": "code",
      "metadata": {
        "colab": {
          "base_uri": "https://localhost:8080/",
          "height": 295
        },
        "id": "ETKV6hT0Rw-7",
        "outputId": "3a443d79-4eec-425f-e8cf-051fb97c528d"
      },
      "source": [
        "plt.clf()   # clear figure\r\n",
        "acc = history.history['binary_accuracy']\r\n",
        "val_acc = history.history['val_binary_accuracy']\r\n",
        "\r\n",
        "plt.plot(epochs, acc, 'bo', label='Training acc')\r\n",
        "plt.plot(epochs, val_acc, 'b', label='Validation acc')\r\n",
        "plt.title('Training and validation accuracy')\r\n",
        "plt.xlabel('Epochs')\r\n",
        "plt.ylabel('Loss')\r\n",
        "plt.legend()\r\n",
        "\r\n",
        "plt.show()"
      ],
      "execution_count": 25,
      "outputs": [
        {
          "output_type": "display_data",
          "data": {
            "image/png": "[encoded data removed]",
            "text/plain": [
              "<Figure size 432x288 with 1 Axes>"
            ]
          },
          "metadata": {
            "tags": [],
            "needs_background": "light"
          }
        }
      ]
    },
    {
      "cell_type": "markdown",
      "metadata": {
        "id": "UvByPHO-Nkzq"
      },
      "source": [
        "Adding dropout\r\n",
        "Dropout is one of the most effective and most commonly used regularization techniques for neural networks. We have added 50% dropout rate for the first two layers. "
      ]
    },
    {
      "cell_type": "code",
      "metadata": {
        "id": "00YxiLL2Nmrn"
      },
      "source": [
        "\r\n",
        "dpt_model = models.Sequential()\r\n",
        "dpt_model.add(layers.Dense(16, activation='relu', input_shape=(10000,)))\r\n",
        "dpt_model.add(layers.Dropout(0.5))\r\n",
        "dpt_model.add(layers.Dense(16, activation='relu'))\r\n",
        "dpt_model.add(layers.Dropout(0.5))\r\n",
        "dpt_model.add(layers.Dense(1, activation='sigmoid'))\r\n",
        "\r\n",
        "dpt_model.compile(optimizer='rmsprop',\r\n",
        "                  loss='binary_crossentropy',\r\n",
        "                  metrics=['acc'])"
      ],
      "execution_count": 26,
      "outputs": []
    },
    {
      "cell_type": "code",
      "metadata": {
        "colab": {
          "base_uri": "https://localhost:8080/"
        },
        "id": "E0CMTNJUOVaR",
        "outputId": "a99ec59c-c5a2-4cec-f6de-8e27b9e82a93"
      },
      "source": [
        "dpt_model_hist = dpt_model.fit(x_train, y_train,\r\n",
        "                               epochs=20,\r\n",
        "                               batch_size=512,\r\n",
        "                               validation_data=(x_test, y_test))"
      ],
      "execution_count": 27,
      "outputs": [
        {
          "output_type": "stream",
          "text": [
            "Epoch 1/20\n",
            "49/49 [==============================] - 4s 72ms/step - loss: 0.6358 - acc: 0.6311 - val_loss: 0.4582 - val_acc: 0.8647\n",
            "Epoch 2/20\n",
            "49/49 [==============================] - 2s 46ms/step - loss: 0.4603 - acc: 0.8057 - val_loss: 0.3469 - val_acc: 0.8768\n",
            "Epoch 3/20\n",
            "49/49 [==============================] - 2s 46ms/step - loss: 0.3658 - acc: 0.8611 - val_loss: 0.2902 - val_acc: 0.8877\n",
            "Epoch 4/20\n",
            "49/49 [==============================] - 2s 41ms/step - loss: 0.2974 - acc: 0.8884 - val_loss: 0.2785 - val_acc: 0.8881\n",
            "Epoch 5/20\n",
            "49/49 [==============================] - 2s 47ms/step - loss: 0.2647 - acc: 0.9090 - val_loss: 0.2805 - val_acc: 0.8895\n",
            "Epoch 6/20\n",
            "49/49 [==============================] - 2s 47ms/step - loss: 0.2339 - acc: 0.9209 - val_loss: 0.2894 - val_acc: 0.8866\n",
            "Epoch 7/20\n",
            "49/49 [==============================] - 2s 42ms/step - loss: 0.2156 - acc: 0.9266 - val_loss: 0.3086 - val_acc: 0.8866\n",
            "Epoch 8/20\n",
            "49/49 [==============================] - 2s 41ms/step - loss: 0.1902 - acc: 0.9344 - val_loss: 0.3316 - val_acc: 0.8844\n",
            "Epoch 9/20\n",
            "49/49 [==============================] - 2s 41ms/step - loss: 0.1727 - acc: 0.9391 - val_loss: 0.3364 - val_acc: 0.8844\n",
            "Epoch 10/20\n",
            "49/49 [==============================] - 2s 41ms/step - loss: 0.1543 - acc: 0.9470 - val_loss: 0.3486 - val_acc: 0.8838\n",
            "Epoch 11/20\n",
            "49/49 [==============================] - 2s 50ms/step - loss: 0.1585 - acc: 0.9441 - val_loss: 0.3651 - val_acc: 0.8805\n",
            "Epoch 12/20\n",
            "49/49 [==============================] - 2s 49ms/step - loss: 0.1514 - acc: 0.9460 - val_loss: 0.4101 - val_acc: 0.8798\n",
            "Epoch 13/20\n",
            "49/49 [==============================] - 3s 55ms/step - loss: 0.1443 - acc: 0.9460 - val_loss: 0.4262 - val_acc: 0.8800\n",
            "Epoch 14/20\n",
            "49/49 [==============================] - 2s 50ms/step - loss: 0.1326 - acc: 0.9521 - val_loss: 0.4462 - val_acc: 0.8792\n",
            "Epoch 15/20\n",
            "49/49 [==============================] - 2s 47ms/step - loss: 0.1272 - acc: 0.9534 - val_loss: 0.4620 - val_acc: 0.8766\n",
            "Epoch 16/20\n",
            "49/49 [==============================] - 2s 42ms/step - loss: 0.1331 - acc: 0.9475 - val_loss: 0.4738 - val_acc: 0.8779\n",
            "Epoch 17/20\n",
            "49/49 [==============================] - 2s 41ms/step - loss: 0.1228 - acc: 0.9526 - val_loss: 0.5210 - val_acc: 0.8728\n",
            "Epoch 18/20\n",
            "49/49 [==============================] - 2s 41ms/step - loss: 0.1261 - acc: 0.9543 - val_loss: 0.5294 - val_acc: 0.8764\n",
            "Epoch 19/20\n",
            "49/49 [==============================] - 2s 47ms/step - loss: 0.1125 - acc: 0.9539 - val_loss: 0.5268 - val_acc: 0.8749\n",
            "Epoch 20/20\n",
            "49/49 [==============================] - 2s 41ms/step - loss: 0.1124 - acc: 0.9568 - val_loss: 0.5783 - val_acc: 0.8703\n"
          ],
          "name": "stdout"
        }
      ]
    },
    {
      "cell_type": "code",
      "metadata": {
        "colab": {
          "base_uri": "https://localhost:8080/",
          "height": 279
        },
        "id": "lZBPUsurOYIC",
        "outputId": "ad04e133-38ef-4062-9b28-3c7b9745294d"
      },
      "source": [
        "dpt_model_val_loss = dpt_model_hist.history['val_loss']\r\n",
        "\r\n",
        "plt.plot(epochs, val_loss, 'b+', label='Original model')\r\n",
        "plt.plot(epochs, dpt_model_val_loss, 'bo', label='Dropout-regularized model')\r\n",
        "plt.xlabel('Epochs')\r\n",
        "plt.ylabel('Validation loss')\r\n",
        "plt.legend()\r\n",
        "\r\n",
        "plt.show()\r\n",
        "\r\n"
      ],
      "execution_count": 29,
      "outputs": [
        {
          "output_type": "display_data",
          "data": {
            "image/png": "[encoded data removed]",
            "text/plain": [
              "<Figure size 432x288 with 1 Axes>"
            ]
          },
          "metadata": {
            "tags": [],
            "needs_background": "light"
          }
        }
      ]
    },
    {
      "cell_type": "markdown",
      "metadata": {
        "id": "xNi0w5pIP22F"
      },
      "source": [
        "Above plot shows clear improvement over the reference network. "
      ]
    }
  ]
}